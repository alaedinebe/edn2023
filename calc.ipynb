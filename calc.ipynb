{
 "cells": [
  {
   "cell_type": "code",
   "execution_count": 10,
   "metadata": {},
   "outputs": [],
   "source": [
    "import numpy as np\n",
    "from sklearn.linear_model import LinearRegression"
   ]
  },
  {
   "cell_type": "code",
   "execution_count": 15,
   "metadata": {},
   "outputs": [
    {
     "name": "stdout",
     "output_type": "stream",
     "text": [
      "[[ 1.          1.          1.          1.          1.          0.\n",
      "   1.          0.          0.          0.          0.          1.\n",
      "   0.          0.          1.          0.          1.          0.\n",
      "   0.          1.          1.          1.          0.          0.\n",
      "   1.          0.          0.          0.          1.          0.\n",
      "   1.          0.          0.          1.          0.          0.\n",
      "   1.          0.          1.          1.          1.          0.\n",
      "   1.          0.          0.          1.          0.          1.\n",
      "   0.          1.          1.          0.          1.          1.\n",
      "   0.          0.          1.          0.          1.          0.\n",
      "   0.          1.          1.          0.          1.          3.50195499]\n",
      " [ 1.          0.          0.          0.          1.          0.\n",
      "   1.          1.          1.          1.          0.          1.\n",
      "   1.          1.          1.          0.          0.          1.\n",
      "   0.          1.          0.          0.          1.          0.\n",
      "   1.          0.          1.          0.          1.          1.\n",
      "   1.          1.          0.          1.          0.          1.\n",
      "   0.          1.          0.          0.          0.          1.\n",
      "   0.          0.          0.          0.          0.          0.\n",
      "   0.          0.          0.          0.          0.          0.\n",
      "   1.          0.          0.          1.          0.          1.\n",
      "   1.          1.          1.          0.          1.          4.99998   ]\n",
      " [ 1.          1.          1.          1.          0.          0.\n",
      "   1.          0.          1.          0.          1.          1.\n",
      "   0.          0.          0.          1.          0.          0.\n",
      "   1.          1.          0.          1.          0.          1.\n",
      "   0.          0.          1.          0.          0.          1.\n",
      "   0.          1.          0.          1.          0.          0.\n",
      "   1.          1.          1.          0.          0.          0.\n",
      "   0.          0.          0.          0.          0.          0.\n",
      "   0.          1.          1.          1.          0.          0.\n",
      "   1.          1.          1.          1.          0.          0.\n",
      "   0.          1.          0.          1.          0.         19.846803  ]\n",
      " [ 0.          0.          1.          1.          0.          1.\n",
      "   1.          1.          0.          0.          0.          1.\n",
      "   1.          0.          0.          0.          0.          1.\n",
      "   0.          0.          1.          0.          1.          1.\n",
      "   0.          1.          1.          0.          1.          0.\n",
      "   1.          1.          1.          1.          0.          0.\n",
      "   1.          0.          0.          0.          1.          1.\n",
      "   1.          1.          0.          1.          1.          0.\n",
      "   1.          0.          0.          0.          1.          1.\n",
      "   1.          0.          0.          1.          1.          1.\n",
      "   0.          1.          0.          1.          1.          7.48951663]\n",
      " [ 0.          0.          1.          0.          0.          0.\n",
      "   1.          0.          1.          1.          0.          0.\n",
      "   0.          1.          1.          0.          1.          0.\n",
      "   0.          0.          0.          0.          1.          1.\n",
      "   0.          0.          1.          0.          1.          0.\n",
      "   1.          0.          0.          1.          0.          1.\n",
      "   0.          1.          0.          1.          1.          1.\n",
      "   0.          1.          1.          1.          0.          0.\n",
      "   1.          1.          1.          0.          0.          1.\n",
      "   0.          1.          1.          0.          0.          1.\n",
      "   0.          0.          1.          0.          0.         11.30563232]\n",
      " [ 1.          0.          1.          0.          1.          1.\n",
      "   0.          1.          0.          1.          1.          1.\n",
      "   0.          0.          1.          1.          0.          0.\n",
      "   0.          0.          1.          1.          1.          1.\n",
      "   1.          1.          0.          1.          0.          1.\n",
      "   1.          1.          1.          0.          1.          0.\n",
      "   1.          1.          0.          0.          0.          0.\n",
      "   1.          1.          1.          0.          0.          0.\n",
      "   1.          1.          0.          0.          1.          0.\n",
      "   0.          1.          0.          0.          0.          0.\n",
      "   0.          0.          0.          0.          0.          9.54092815]\n",
      " [ 0.          1.          0.          0.          0.          1.\n",
      "   1.          0.          0.          1.          1.          0.\n",
      "   0.          1.          1.          0.          1.          0.\n",
      "   0.          0.          1.          1.          1.          0.\n",
      "   0.          0.          0.          1.          1.          0.\n",
      "   0.          1.          1.          0.          0.          1.\n",
      "   0.          1.          1.          0.          1.          0.\n",
      "   0.          0.          0.          1.          1.          1.\n",
      "   0.          0.          1.          1.          1.          0.\n",
      "   0.          1.          0.          0.          0.          0.\n",
      "   0.          1.          1.          1.          1.         19.74192334]\n",
      " [ 1.          1.          0.          1.          1.          0.\n",
      "   0.          0.          1.          1.          1.          0.\n",
      "   0.          1.          1.          1.          1.          1.\n",
      "   0.          1.          0.          0.          0.          1.\n",
      "   1.          1.          1.          1.          1.          0.\n",
      "   1.          1.          0.          1.          0.          1.\n",
      "   1.          1.          0.          0.          1.          0.\n",
      "   1.          1.          1.          1.          1.          1.\n",
      "   1.          0.          1.          0.          1.          0.\n",
      "   0.          1.          1.          0.          1.          1.\n",
      "   1.          1.          0.          1.          1.         16.08208994]\n",
      " [ 1.          1.          1.          1.          0.          0.\n",
      "   1.          1.          0.          1.          1.          0.\n",
      "   0.          1.          1.          1.          0.          1.\n",
      "   1.          1.          0.          1.          0.          0.\n",
      "   1.          1.          1.          0.          0.          1.\n",
      "   1.          0.          1.          1.          0.          0.\n",
      "   1.          0.          0.          0.          1.          1.\n",
      "   0.          1.          1.          1.          1.          1.\n",
      "   0.          0.          1.          0.          0.          0.\n",
      "   0.          1.          1.          0.          0.          1.\n",
      "   1.          0.          1.          0.          1.          8.28688603]\n",
      " [ 1.          0.          0.          0.          1.          0.\n",
      "   0.          0.          0.          0.          1.          1.\n",
      "   0.          0.          1.          0.          1.          1.\n",
      "   0.          0.          0.          1.          0.          1.\n",
      "   1.          1.          0.          0.          1.          0.\n",
      "   1.          1.          1.          0.          0.          0.\n",
      "   0.          0.          1.          1.          0.          0.\n",
      "   1.          0.          1.          1.          0.          0.\n",
      "   0.          0.          0.          0.          0.          0.\n",
      "   1.          1.          1.          0.          0.          0.\n",
      "   0.          1.          1.          1.          0.         16.61058362]]\n"
     ]
    }
   ],
   "source": [
    "# Supposons que 'data' est notre tableau de données\n",
    "# TODO : extraire les données des pdf des étudiants\n",
    "\n",
    "# Générer des réponses d'étudiants et des notes\n",
    "responses = np.random.randint(0, 2, size=(100, 65))  # valeurs 0 ou 1\n",
    "grades = np.random.uniform(0, 20, size=(100, 1))  # valeurs continues entre 0 et 20\n",
    "\n",
    "# Concaténer les réponses et les notes pour obtenir le tableau de données\n",
    "data = np.hstack((responses, grades))\n",
    "\n",
    "print(data[:10])"
   ]
  },
  {
   "cell_type": "code",
   "execution_count": 16,
   "metadata": {},
   "outputs": [
    {
     "name": "stdout",
     "output_type": "stream",
     "text": [
      "[[1. 1. 1. ... 1. 0. 1.]\n",
      " [1. 0. 0. ... 1. 0. 1.]\n",
      " [1. 1. 1. ... 0. 1. 0.]\n",
      " ...\n",
      " [1. 0. 1. ... 0. 1. 1.]\n",
      " [1. 1. 1. ... 0. 1. 1.]\n",
      " [1. 1. 0. ... 0. 0. 1.]]\n",
      "[ 3.50195499  4.99998    19.846803    7.48951663 11.30563232  9.54092815\n",
      " 19.74192334 16.08208994  8.28688603 16.61058362 14.78312412  3.14184558\n",
      "  7.73324359 14.47468757  5.85736174  4.68809503 10.92480352  5.00542489\n",
      " 11.11387222 14.56491697  9.80632857  6.9452623   8.06920137  0.47095281\n",
      "  6.25033507  7.4158897   7.79497883 11.75650864  2.64954392  3.82172624\n",
      " 11.31883848 19.30484519 12.31880386  2.90201621 15.0179068  11.03198316\n",
      " 12.19049544  6.77649465 19.19096617  2.36335274 14.94167193 11.76602883\n",
      " 19.49889722  1.56090396  7.87889782 12.98581232 11.13002709 10.10044942\n",
      "  9.67284899 10.83975048 11.4432269   4.73247817 13.21229082 18.21090161\n",
      " 15.34073716  6.32688525  8.01364791 16.6701405   1.82225157  0.5753809\n",
      "  3.45444187 10.05006013  8.31630183 10.14024956 17.24333649  5.81811088\n",
      "  6.23276122 13.5999478   5.88370783  1.17429305 11.55711401 13.94475995\n",
      "  5.94441158 14.16761276  0.21034516  0.39629002  4.82918652 10.06628855\n",
      "  5.51665603  9.15708063  5.35136052  4.59084789  7.49845926 11.90664285\n",
      " 17.6053382   6.51415592 10.25687934 16.18592908 13.38236406  7.70207942\n",
      " 10.99139219 11.05922619 13.02381311 18.86364706 18.27389628 15.54139725\n",
      "  0.1693989   5.68331963  1.2226788   8.32387562]\n"
     ]
    }
   ],
   "source": [
    "# Extraire les réponses et les notes\n",
    "responses = data[:, :-1]\n",
    "grades = data[:, -1]\n",
    "print(responses)\n",
    "print(grades)"
   ]
  },
  {
   "cell_type": "code",
   "execution_count": 19,
   "metadata": {},
   "outputs": [],
   "source": [
    "# Former un modèle de régression logistique pour chaque question\n",
    "models = []\n",
    "for i in range(65):\n",
    "    model = LinearRegression()\n",
    "    model.fit(responses[:, i:i+1], grades)\n",
    "    models.append(model)"
   ]
  },
  {
   "cell_type": "code",
   "execution_count": 31,
   "metadata": {},
   "outputs": [
    {
     "name": "stdout",
     "output_type": "stream",
     "text": [
      "[0, 0, 0, 0, 0, 0, 0, 0, 0, 0, 0, 1, 0, 0, 0, 0, 0, 0, 0, 0, 0, 0, 1, 0, 0, 0, 0, 0, 0, 0, 0, 0, 0, 0, 0, 0, 0, 1, 1, 0, 0, 0, 0, 0, 0, 0, 0, 0, 0, 0, 0, 0, 0, 0, 1, 1, 0, 0, 0, 0, 0, 0, 0, 0, 0]\n"
     ]
    }
   ],
   "source": [
    "# Définir le seuil comme la moyenne des notes\n",
    "threshold = grades.mean()\n",
    "\n",
    "# Utiliser les modèles pour prédire les réponses correctes\n",
    "correct_answers = []\n",
    "for model in models:\n",
    "    # Si la valeur prédite pour une réponse de 1 dépasse le seuil, on considère que la réponse est correcte\n",
    "    value = model.predict([[1]])\n",
    "    correct_answer = 1 if value > threshold else 0\n",
    "    correct_answers.append(correct_answer)\n",
    "\n",
    "print(correct_answers)\n"
   ]
  },
  {
   "cell_type": "markdown",
   "metadata": {},
   "source": [
    "# OLD"
   ]
  },
  {
   "cell_type": "code",
   "execution_count": 30,
   "metadata": {},
   "outputs": [
    {
     "name": "stdout",
     "output_type": "stream",
     "text": [
      "[0 1 0 0 1 0 1 1 0 1 1 0 1 0 1 1 0 1 1 0 1 0 1 1 0 0 0 1 0 1 1 1 1 1 1 1 1\n",
      " 1 0 0 1 1 0 1 0 0 1 0 1 0 1 0 1 1 1 0 1 1 0 0 0 1 1 0 0]\n"
     ]
    }
   ],
   "source": [
    "# Autre idée (mais je pense que c'est naze) : utiliser un coefficient de corrélation\n",
    "            \n",
    "import numpy as np\n",
    "\n",
    "# Générer des réponses d'étudiants et des notes\n",
    "responses = np.random.randint(0, 2, size=(100, 65))  # valeurs 0 ou 1\n",
    "grades = np.random.uniform(0, 20, size=(100, 1))  # valeurs continues entre 0 et 20\n",
    "\n",
    "# Concaténer les réponses et les notes pour obtenir le tableau de données\n",
    "data = np.hstack((responses, grades))\n",
    "\n",
    "# Extraire les réponses et les notes\n",
    "responses = data[:, :-1]\n",
    "grades = data[:, -1]\n",
    "\n",
    "# Calculer la corrélation entre chaque réponse et les notes\n",
    "correlations = np.corrcoef(np.hstack((responses, grades.reshape(-1, 1))), rowvar=False)[-1, :-1]\n",
    "\n",
    "# Les réponses avec une corrélation positive sont considérées comme correctes\n",
    "correct_answers = (correlations > 0).astype(int)\n",
    "\n",
    "print(correct_answers)"
   ]
  },
  {
   "cell_type": "code",
   "execution_count": null,
   "metadata": {},
   "outputs": [],
   "source": []
  },
  {
   "cell_type": "code",
   "execution_count": null,
   "metadata": {},
   "outputs": [],
   "source": []
  }
 ],
 "metadata": {
  "kernelspec": {
   "display_name": "Python 3",
   "language": "python",
   "name": "python3"
  },
  "language_info": {
   "codemirror_mode": {
    "name": "ipython",
    "version": 3
   },
   "file_extension": ".py",
   "mimetype": "text/x-python",
   "name": "python",
   "nbconvert_exporter": "python",
   "pygments_lexer": "ipython3",
   "version": "3.11.3"
  },
  "orig_nbformat": 4
 },
 "nbformat": 4,
 "nbformat_minor": 2
}
